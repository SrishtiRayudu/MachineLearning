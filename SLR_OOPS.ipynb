{
 "cells": [
  {
   "cell_type": "code",
   "execution_count": 34,
   "metadata": {
    "collapsed": true
   },
   "outputs": [],
   "source": [
    "import numpy as np\n",
    "import matplotlib.pyplot as plt"
   ]
  },
  {
   "cell_type": "code",
   "execution_count": 35,
   "metadata": {},
   "outputs": [],
   "source": [
    "class slr:\n",
    "    def __init__ (self,u,v):\n",
    "        self.x = u\n",
    "        self.y = v\n",
    "        \n",
    "    def get_mc1(self):\n",
    "        x_mean = np.mean(self.x)\n",
    "        y_mean = np.mean(self.y)\n",
    "        x1 = self.x - x_mean\n",
    "        y1 = self.y - y_mean\n",
    "        self.m = sum(x1 * y1)/ sum(x1 * x1)\n",
    "        self.c = y_mean - x_mean * self.m\n",
    "        \n",
    "    def graph(self):\n",
    "        plt.scatter(self.x , self.y)\n",
    "        plt.plot(self.x , self.x * self.m +self.c)\n",
    "        plt.show()"
   ]
  },
  {
   "cell_type": "code",
   "execution_count": 36,
   "metadata": {},
   "outputs": [
    {
     "data": {
      "image/png": "[encoded data removed]",
      "text/plain": [
       "<matplotlib.figure.Figure at 0x1cba430>"
      ]
     },
     "metadata": {},
     "output_type": "display_data"
    }
   ],
   "source": [
    "u = np.array([1,2,3,4,5])\n",
    "v = np.array([1,2,3,4,6])\n",
    "obj= slr(u, v)\n",
    "obj.get_mc1()\n",
    "obj.graph()"
   ]
  },
  {
   "cell_type": "code",
   "execution_count": 37,
   "metadata": {},
   "outputs": [
    {
     "name": "stdout",
     "output_type": "stream",
     "text": [
      "1.2 -0.4\n"
     ]
    }
   ],
   "source": [
    "print(obj.m, obj.c)"
   ]
  },
  {
   "cell_type": "code",
   "execution_count": null,
   "metadata": {
    "collapsed": true
   },
   "outputs": [],
   "source": []
  }
 ],
 "metadata": {
  "kernelspec": {
   "display_name": "Python 3",
   "language": "python",
   "name": "python3"
  },
  "language_info": {
   "codemirror_mode": {
    "name": "ipython",
    "version": 3
   },
   "file_extension": ".py",
   "mimetype": "text/x-python",
   "name": "python",
   "nbconvert_exporter": "python",
   "pygments_lexer": "ipython3",
   "version": "3.6.1"
  }
 },
 "nbformat": 4,
 "nbformat_minor": 2
}
