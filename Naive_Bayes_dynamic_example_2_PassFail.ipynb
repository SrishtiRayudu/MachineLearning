{
 "cells": [
  {
   "cell_type": "code",
   "execution_count": 1,
   "metadata": {
    "collapsed": true
   },
   "outputs": [],
   "source": [
    "import pandas as pd\n",
    "import numpy as np"
   ]
  },
  {
   "cell_type": "code",
   "execution_count": 49,
   "metadata": {
    "collapsed": true
   },
   "outputs": [],
   "source": [
    "coll = np.random.choice(['Pes', 'VIT','IIT'],200, replace=True)\n",
    "city=np.random.choice(['Bang', 'Mumbai', 'Hyd'],200, replace=True)\n",
    "PF = np.random.choice(['Pass', 'Fail'],200, replace=True)"
   ]
  },
  {
   "cell_type": "code",
   "execution_count": 74,
   "metadata": {},
   "outputs": [],
   "source": [
    "df =pd.DataFrame(list(zip(coll,city,PF)),columns=['college','city','PassFail'])"
   ]
  },
  {
   "cell_type": "code",
   "execution_count": 75,
   "metadata": {},
   "outputs": [],
   "source": [
    "mylist =[]\n",
    "for i in df.columns[:-1]:\n",
    "    for j in np.unique(df[i]):\n",
    "        #print(j)\n",
    "        mylist.append([i,j])\n",
    "    \n",
    "df1 = pd.DataFrame(mylist, columns=['feature','value'])\n",
    "#df1"
   ]
  },
  {
   "cell_type": "code",
   "execution_count": 54,
   "metadata": {},
   "outputs": [],
   "source": [
    "def getCount(CS, val,pf):\n",
    "    return df.loc[(df[CS]==val) & (df['PassFail']==pf),'college'].count()\n",
    "\n",
    "df1['Pass'] = df1.apply(lambda row: getCount(row['feature'],row['value'],'Pass'),axis=1)\n",
    "df1['Fail'] = df1.apply(lambda row: getCount(row['feature'],row['value'],'Fail'),axis=1)"
   ]
  },
  {
   "cell_type": "code",
   "execution_count": 62,
   "metadata": {
    "collapsed": true
   },
   "outputs": [],
   "source": [
    "class_ = 'Pass'\n",
    "instance={ 'college' : 'Pes', 'city':'Mumbai'}\n",
    "\n",
    "def getClassCount(class_):\n",
    "    return df.loc[df['PassFail']==class_, 'PassFail'].count()\n",
    "\n",
    "def getLikelihood(instance,class_) :\n",
    "    mylist=[]\n",
    "    for k,v in instance.items():\n",
    "        mylist.append((df1.loc[(df1.feature==k) & (df1.value==v), class_].values[0])/(getClassCount(class_)))\n",
    "    return np.product(mylist)\n",
    "\n",
    "def getPrior(class_):\n",
    "    return getClassCount(class_)/len(df)\n",
    "\n",
    "def getEvidence(instance,class_) :\n",
    "    mylist=[]\n",
    "    for k,v in instance.items():\n",
    "        mylist.append(df1.loc[(df1.feature==k) & (df1.value==v), class_].values[0]/len(df))\n",
    "    return np.product(mylist)\n",
    "    "
   ]
  },
  {
   "cell_type": "code",
   "execution_count": 69,
   "metadata": {},
   "outputs": [
    {
     "data": {
      "text/plain": [
       "True"
      ]
     },
     "execution_count": 69,
     "metadata": {},
     "output_type": "execute_result"
    }
   ],
   "source": [
    "posterior = (getLikelihood(instance,class_) * getPrior(class_))/ getEvidence(instance, class_)\n",
    "posterior * getEvidence(instance, class_) == getLikelihood(instance, class_) * getPrior(class_)"
   ]
  },
  {
   "cell_type": "code",
   "execution_count": 73,
   "metadata": {},
   "outputs": [
    {
     "data": {
      "text/plain": [
       "0.048662790697674416"
      ]
     },
     "execution_count": 73,
     "metadata": {},
     "output_type": "execute_result"
    }
   ],
   "source": [
    "posterior * getEvidence(instance, class_)"
   ]
  },
  {
   "cell_type": "code",
   "execution_count": 72,
   "metadata": {},
   "outputs": [
    {
     "data": {
      "text/plain": [
       "0.048662790697674416"
      ]
     },
     "execution_count": 72,
     "metadata": {},
     "output_type": "execute_result"
    }
   ],
   "source": [
    "getLikelihood(instance, class_) * getPrior(class_)\n"
   ]
  }
 ],
 "metadata": {
  "kernelspec": {
   "display_name": "Python 3",
   "language": "python",
   "name": "python3"
  },
  "language_info": {
   "codemirror_mode": {
    "name": "ipython",
    "version": 3
   },
   "file_extension": ".py",
   "mimetype": "text/x-python",
   "name": "python",
   "nbconvert_exporter": "python",
   "pygments_lexer": "ipython3",
   "version": "3.6.1"
  }
 },
 "nbformat": 4,
 "nbformat_minor": 2
}
