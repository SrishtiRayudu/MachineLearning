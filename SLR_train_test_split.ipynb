{
 "cells": [
  {
   "cell_type": "code",
   "execution_count": 45,
   "metadata": {
    "collapsed": true
   },
   "outputs": [],
   "source": [
    "import numpy as np\n",
    "import matplotlib.pyplot as plt\n",
    "import pandas as pd"
   ]
  },
  {
   "cell_type": "code",
   "execution_count": 46,
   "metadata": {
    "collapsed": true
   },
   "outputs": [],
   "source": [
    "df = pd.read_csv('d:\\srishti\\downloads\\salary_data.csv')\n",
    "\n",
    "no = list(range(1,31))\n",
    "df['rand'] = np.random.choice(no, 30, replace=False)"
   ]
  },
  {
   "cell_type": "code",
   "execution_count": 4,
   "metadata": {
    "collapsed": true
   },
   "outputs": [],
   "source": [
    "#import random\n",
    "#random.sample(no, 4)"
   ]
  },
  {
   "cell_type": "code",
   "execution_count": 47,
   "metadata": {},
   "outputs": [],
   "source": [
    "df =df.sort_values(by =['rand']).reset_index(drop = True)\n",
    "df_train = df[df.rand <=20].copy()\n",
    "\n",
    "x = df_train.YearsExperience\n",
    "y = df_train.Salary\n",
    "xmean= df_train['YearsExperience'].mean()\n",
    "ymean= df_train['Salary'].mean()\n",
    "x_xmean= x - xmean\n",
    "y_ymean= y - ymean\n",
    "m = sum(y_ymean* x_xmean) / sum(x_xmean* x_xmean) \n",
    "c = ymean - m* xmean"
   ]
  },
  {
   "cell_type": "code",
   "execution_count": 48,
   "metadata": {
    "collapsed": true
   },
   "outputs": [],
   "source": [
    "df_test = df[df.rand >20].copy()\n",
    "\n",
    "x1 = df_test.YearsExperience\n",
    "y1 = df_test.Salary\n",
    "\n"
   ]
  },
  {
   "cell_type": "code",
   "execution_count": 49,
   "metadata": {},
   "outputs": [
    {
     "data": {
      "image/png": "[encoded data removed]",
      "text/plain": [
       "<matplotlib.figure.Figure at 0xc598230>"
      ]
     },
     "metadata": {},
     "output_type": "display_data"
    },
    {
     "data": {
      "image/png": "[encoded data removed]",
      "text/plain": [
       "<matplotlib.figure.Figure at 0x5c80910>"
      ]
     },
     "metadata": {},
     "output_type": "display_data"
    }
   ],
   "source": [
    "plt.scatter(x, y)\n",
    "plt.plot(x, m*x +c, c='k')\n",
    "plt.show()\n",
    "\n",
    "plt.scatter(x1,y1)\n",
    "plt.plot(x1, m* x1 +c, c='k')\n",
    "plt.show()"
   ]
  },
  {
   "cell_type": "code",
   "execution_count": 51,
   "metadata": {},
   "outputs": [
    {
     "name": "stdout",
     "output_type": "stream",
     "text": [
      "    YearsExperience  Salary  rand          y_hat\n",
      "0               1.3   46205     1   39810.585830\n",
      "1               8.7  109431     2  107550.141223\n",
      "2               7.1   98273     3   92903.750867\n",
      "3               3.0   60150     4   55372.375583\n",
      "4               7.9  101302     5  100226.946045\n",
      "5               6.0   93940     6   82834.357498\n",
      "6               9.6  112635     7  115788.735797\n",
      "7               5.9   81363     8   81918.958101\n",
      "8               4.0   55794     9   64526.369554\n",
      "9               2.0   43525    10   46218.381611\n",
      "10              3.7   57189    11   61780.171363\n",
      "11              9.5  116969    12  114873.336400\n",
      "12              2.9   56642    13   54456.976185\n",
      "13              4.1   57081    14   65441.768952\n",
      "14              3.9   63218    15   63610.970157\n",
      "15             10.3  122391    16  122196.531578\n",
      "16              6.8   91738    17   90157.552676\n",
      "17              4.9   67938    18   72764.964129\n",
      "18              9.0  105582    19  110296.339414\n",
      "19              1.1   39343    20   37979.787036\n",
      "    YearsExperience  Salary  rand          y_hat\n",
      "20              5.3   83088    21   76426.561718\n",
      "21             10.5  121872    22  124027.330372\n",
      "22              3.2   64445    23   57203.174377\n",
      "23              2.2   39891    24   48049.180405\n",
      "24              3.2   54445    25   57203.174377\n",
      "25              8.2  113812    26  102973.144237\n",
      "26              4.0   56957    27   64526.369554\n",
      "27              1.5   37731    28   41641.384625\n",
      "28              5.1   66029    29   74595.762924\n",
      "29              4.5   61111    30   69103.366540\n"
     ]
    }
   ],
   "source": [
    "df_train.loc[:, 'y_hat'] = df_train.loc[:, 'YearsExperience'].values *m +c\n",
    "df_test.loc[:, 'y_hat'] = df_test.YearsExperience*m +c\n",
    "print(df_train)\n",
    "print(df_test)"
   ]
  },
  {
   "cell_type": "code",
   "execution_count": 52,
   "metadata": {},
   "outputs": [
    {
     "data": {
      "text/html": [
       "<div>\n",
       "<style>\n",
       "    .dataframe thead tr:only-child th {\n",
       "        text-align: right;\n",
       "    }\n",
       "\n",
       "    .dataframe thead th {\n",
       "        text-align: left;\n",
       "    }\n",
       "\n",
       "    .dataframe tbody tr th {\n",
       "        vertical-align: top;\n",
       "    }\n",
       "</style>\n",
       "<table border=\"1\" class=\"dataframe\">\n",
       "  <thead>\n",
       "    <tr style=\"text-align: right;\">\n",
       "      <th></th>\n",
       "      <th>YearsExperience</th>\n",
       "      <th>Salary</th>\n",
       "      <th>rand</th>\n",
       "      <th>y_hat</th>\n",
       "    </tr>\n",
       "  </thead>\n",
       "  <tbody>\n",
       "    <tr>\n",
       "      <th>0</th>\n",
       "      <td>1.3</td>\n",
       "      <td>46205</td>\n",
       "      <td>1</td>\n",
       "      <td>39810.585830</td>\n",
       "    </tr>\n",
       "    <tr>\n",
       "      <th>1</th>\n",
       "      <td>8.7</td>\n",
       "      <td>109431</td>\n",
       "      <td>2</td>\n",
       "      <td>107550.141223</td>\n",
       "    </tr>\n",
       "    <tr>\n",
       "      <th>2</th>\n",
       "      <td>7.1</td>\n",
       "      <td>98273</td>\n",
       "      <td>3</td>\n",
       "      <td>92903.750867</td>\n",
       "    </tr>\n",
       "    <tr>\n",
       "      <th>3</th>\n",
       "      <td>3.0</td>\n",
       "      <td>60150</td>\n",
       "      <td>4</td>\n",
       "      <td>55372.375583</td>\n",
       "    </tr>\n",
       "    <tr>\n",
       "      <th>4</th>\n",
       "      <td>7.9</td>\n",
       "      <td>101302</td>\n",
       "      <td>5</td>\n",
       "      <td>100226.946045</td>\n",
       "    </tr>\n",
       "    <tr>\n",
       "      <th>5</th>\n",
       "      <td>6.0</td>\n",
       "      <td>93940</td>\n",
       "      <td>6</td>\n",
       "      <td>82834.357498</td>\n",
       "    </tr>\n",
       "    <tr>\n",
       "      <th>6</th>\n",
       "      <td>9.6</td>\n",
       "      <td>112635</td>\n",
       "      <td>7</td>\n",
       "      <td>115788.735797</td>\n",
       "    </tr>\n",
       "    <tr>\n",
       "      <th>7</th>\n",
       "      <td>5.9</td>\n",
       "      <td>81363</td>\n",
       "      <td>8</td>\n",
       "      <td>81918.958101</td>\n",
       "    </tr>\n",
       "    <tr>\n",
       "      <th>8</th>\n",
       "      <td>4.0</td>\n",
       "      <td>55794</td>\n",
       "      <td>9</td>\n",
       "      <td>64526.369554</td>\n",
       "    </tr>\n",
       "    <tr>\n",
       "      <th>9</th>\n",
       "      <td>2.0</td>\n",
       "      <td>43525</td>\n",
       "      <td>10</td>\n",
       "      <td>46218.381611</td>\n",
       "    </tr>\n",
       "    <tr>\n",
       "      <th>10</th>\n",
       "      <td>3.7</td>\n",
       "      <td>57189</td>\n",
       "      <td>11</td>\n",
       "      <td>61780.171363</td>\n",
       "    </tr>\n",
       "    <tr>\n",
       "      <th>11</th>\n",
       "      <td>9.5</td>\n",
       "      <td>116969</td>\n",
       "      <td>12</td>\n",
       "      <td>114873.336400</td>\n",
       "    </tr>\n",
       "    <tr>\n",
       "      <th>12</th>\n",
       "      <td>2.9</td>\n",
       "      <td>56642</td>\n",
       "      <td>13</td>\n",
       "      <td>54456.976185</td>\n",
       "    </tr>\n",
       "    <tr>\n",
       "      <th>13</th>\n",
       "      <td>4.1</td>\n",
       "      <td>57081</td>\n",
       "      <td>14</td>\n",
       "      <td>65441.768952</td>\n",
       "    </tr>\n",
       "    <tr>\n",
       "      <th>14</th>\n",
       "      <td>3.9</td>\n",
       "      <td>63218</td>\n",
       "      <td>15</td>\n",
       "      <td>63610.970157</td>\n",
       "    </tr>\n",
       "    <tr>\n",
       "      <th>15</th>\n",
       "      <td>10.3</td>\n",
       "      <td>122391</td>\n",
       "      <td>16</td>\n",
       "      <td>122196.531578</td>\n",
       "    </tr>\n",
       "    <tr>\n",
       "      <th>16</th>\n",
       "      <td>6.8</td>\n",
       "      <td>91738</td>\n",
       "      <td>17</td>\n",
       "      <td>90157.552676</td>\n",
       "    </tr>\n",
       "    <tr>\n",
       "      <th>17</th>\n",
       "      <td>4.9</td>\n",
       "      <td>67938</td>\n",
       "      <td>18</td>\n",
       "      <td>72764.964129</td>\n",
       "    </tr>\n",
       "    <tr>\n",
       "      <th>18</th>\n",
       "      <td>9.0</td>\n",
       "      <td>105582</td>\n",
       "      <td>19</td>\n",
       "      <td>110296.339414</td>\n",
       "    </tr>\n",
       "    <tr>\n",
       "      <th>19</th>\n",
       "      <td>1.1</td>\n",
       "      <td>39343</td>\n",
       "      <td>20</td>\n",
       "      <td>37979.787036</td>\n",
       "    </tr>\n",
       "    <tr>\n",
       "      <th>20</th>\n",
       "      <td>5.3</td>\n",
       "      <td>83088</td>\n",
       "      <td>21</td>\n",
       "      <td>76426.561718</td>\n",
       "    </tr>\n",
       "    <tr>\n",
       "      <th>21</th>\n",
       "      <td>10.5</td>\n",
       "      <td>121872</td>\n",
       "      <td>22</td>\n",
       "      <td>124027.330372</td>\n",
       "    </tr>\n",
       "    <tr>\n",
       "      <th>22</th>\n",
       "      <td>3.2</td>\n",
       "      <td>64445</td>\n",
       "      <td>23</td>\n",
       "      <td>57203.174377</td>\n",
       "    </tr>\n",
       "    <tr>\n",
       "      <th>23</th>\n",
       "      <td>2.2</td>\n",
       "      <td>39891</td>\n",
       "      <td>24</td>\n",
       "      <td>48049.180405</td>\n",
       "    </tr>\n",
       "    <tr>\n",
       "      <th>24</th>\n",
       "      <td>3.2</td>\n",
       "      <td>54445</td>\n",
       "      <td>25</td>\n",
       "      <td>57203.174377</td>\n",
       "    </tr>\n",
       "    <tr>\n",
       "      <th>25</th>\n",
       "      <td>8.2</td>\n",
       "      <td>113812</td>\n",
       "      <td>26</td>\n",
       "      <td>102973.144237</td>\n",
       "    </tr>\n",
       "    <tr>\n",
       "      <th>26</th>\n",
       "      <td>4.0</td>\n",
       "      <td>56957</td>\n",
       "      <td>27</td>\n",
       "      <td>64526.369554</td>\n",
       "    </tr>\n",
       "    <tr>\n",
       "      <th>27</th>\n",
       "      <td>1.5</td>\n",
       "      <td>37731</td>\n",
       "      <td>28</td>\n",
       "      <td>41641.384625</td>\n",
       "    </tr>\n",
       "    <tr>\n",
       "      <th>28</th>\n",
       "      <td>5.1</td>\n",
       "      <td>66029</td>\n",
       "      <td>29</td>\n",
       "      <td>74595.762924</td>\n",
       "    </tr>\n",
       "    <tr>\n",
       "      <th>29</th>\n",
       "      <td>4.5</td>\n",
       "      <td>61111</td>\n",
       "      <td>30</td>\n",
       "      <td>69103.366540</td>\n",
       "    </tr>\n",
       "  </tbody>\n",
       "</table>\n",
       "</div>"
      ],
      "text/plain": [
       "    YearsExperience  Salary  rand          y_hat\n",
       "0               1.3   46205     1   39810.585830\n",
       "1               8.7  109431     2  107550.141223\n",
       "2               7.1   98273     3   92903.750867\n",
       "3               3.0   60150     4   55372.375583\n",
       "4               7.9  101302     5  100226.946045\n",
       "5               6.0   93940     6   82834.357498\n",
       "6               9.6  112635     7  115788.735797\n",
       "7               5.9   81363     8   81918.958101\n",
       "8               4.0   55794     9   64526.369554\n",
       "9               2.0   43525    10   46218.381611\n",
       "10              3.7   57189    11   61780.171363\n",
       "11              9.5  116969    12  114873.336400\n",
       "12              2.9   56642    13   54456.976185\n",
       "13              4.1   57081    14   65441.768952\n",
       "14              3.9   63218    15   63610.970157\n",
       "15             10.3  122391    16  122196.531578\n",
       "16              6.8   91738    17   90157.552676\n",
       "17              4.9   67938    18   72764.964129\n",
       "18              9.0  105582    19  110296.339414\n",
       "19              1.1   39343    20   37979.787036\n",
       "20              5.3   83088    21   76426.561718\n",
       "21             10.5  121872    22  124027.330372\n",
       "22              3.2   64445    23   57203.174377\n",
       "23              2.2   39891    24   48049.180405\n",
       "24              3.2   54445    25   57203.174377\n",
       "25              8.2  113812    26  102973.144237\n",
       "26              4.0   56957    27   64526.369554\n",
       "27              1.5   37731    28   41641.384625\n",
       "28              5.1   66029    29   74595.762924\n",
       "29              4.5   61111    30   69103.366540"
      ]
     },
     "execution_count": 52,
     "metadata": {},
     "output_type": "execute_result"
    }
   ],
   "source": [
    "pd.concat((df_train, df_test), axis =0)"
   ]
  },
  {
   "cell_type": "code",
   "execution_count": 63,
   "metadata": {
    "collapsed": true
   },
   "outputs": [],
   "source": [
    "from sklearn.metrics import accuracy_score\n",
    "from sklearn.model_selection import train_test_split\n",
    "from sklearn.linear_model import LinearRegression as LR"
   ]
  },
  {
   "cell_type": "code",
   "execution_count": 93,
   "metadata": {
    "collapsed": true
   },
   "outputs": [],
   "source": [
    "X_train, X_test, y_train, y_test = train_test_split(df.YearsExperience, df.Salary, test_size = .2, random_state= 3)"
   ]
  },
  {
   "cell_type": "code",
   "execution_count": 100,
   "metadata": {},
   "outputs": [
    {
     "data": {
      "text/plain": [
       "LinearRegression()"
      ]
     },
     "execution_count": 100,
     "metadata": {},
     "output_type": "execute_result"
    }
   ],
   "source": [
    "obj = LR()\n",
    "obj.fit(X_train.values.reshape (-1,1), y_train)"
   ]
  },
  {
   "cell_type": "code",
   "execution_count": 101,
   "metadata": {},
   "outputs": [
    {
     "data": {
      "text/plain": [
       "{'_residues': 658199074.937746,\n",
       " 'coef_': array([9577.14187569]),\n",
       " 'copy_X': True,\n",
       " 'fit_intercept': True,\n",
       " 'intercept_': 24815.35622042013,\n",
       " 'n_features_in_': 1,\n",
       " 'n_jobs': None,\n",
       " 'normalize': False,\n",
       " 'rank_': 1,\n",
       " 'singular_': array([13.62295856])}"
      ]
     },
     "execution_count": 101,
     "metadata": {},
     "output_type": "execute_result"
    }
   ],
   "source": [
    "obj.__dict__"
   ]
  },
  {
   "cell_type": "code",
   "execution_count": 102,
   "metadata": {},
   "outputs": [
    {
     "data": {
      "text/plain": [
       "0.9200594546911338"
      ]
     },
     "execution_count": 102,
     "metadata": {},
     "output_type": "execute_result"
    }
   ],
   "source": [
    "obj.score(X_test.values.reshape(-1,1), y_test)"
   ]
  },
  {
   "cell_type": "code",
   "execution_count": 103,
   "metadata": {},
   "outputs": [
    {
     "data": {
      "text/plain": [
       "15    122391\n",
       "5      93940\n",
       "22     64445\n",
       "26     56957\n",
       "18    105582\n",
       "14     63218\n",
       "Name: Salary, dtype: int64"
      ]
     },
     "execution_count": 103,
     "metadata": {},
     "output_type": "execute_result"
    }
   ],
   "source": [
    "y_test"
   ]
  },
  {
   "cell_type": "code",
   "execution_count": 104,
   "metadata": {},
   "outputs": [
    {
     "data": {
      "text/plain": [
       "15    123459.917540\n",
       "5      82278.207475\n",
       "22     55462.210223\n",
       "26     63123.923723\n",
       "18    111009.633102\n",
       "14     62166.209536\n",
       "Name: YearsExperience, dtype: float64"
      ]
     },
     "execution_count": 104,
     "metadata": {},
     "output_type": "execute_result"
    }
   ],
   "source": [
    "X_test*obj.coef_[0] + obj.intercept_"
   ]
  },
  {
   "cell_type": "code",
   "execution_count": 105,
   "metadata": {
    "collapsed": true
   },
   "outputs": [],
   "source": [
    "s= sum(X_test*obj.coef_[0] + obj.intercept_)"
   ]
  },
  {
   "cell_type": "code",
   "execution_count": 106,
   "metadata": {},
   "outputs": [
    {
     "data": {
      "text/plain": [
       "497500.1015976507"
      ]
     },
     "execution_count": 106,
     "metadata": {},
     "output_type": "execute_result"
    }
   ],
   "source": [
    "s"
   ]
  },
  {
   "cell_type": "code",
   "execution_count": 107,
   "metadata": {
    "collapsed": true
   },
   "outputs": [],
   "source": [
    "s1 = sum(y_test)"
   ]
  },
  {
   "cell_type": "code",
   "execution_count": 113,
   "metadata": {},
   "outputs": [
    {
     "data": {
      "text/plain": [
       "101.81565759953443"
      ]
     },
     "execution_count": 113,
     "metadata": {},
     "output_type": "execute_result"
    }
   ],
   "source": [
    "s1 /s *100"
   ]
  },
  {
   "cell_type": "code",
   "execution_count": null,
   "metadata": {
    "collapsed": true
   },
   "outputs": [],
   "source": []
  }
 ],
 "metadata": {
  "kernelspec": {
   "display_name": "Python 3",
   "language": "python",
   "name": "python3"
  },
  "language_info": {
   "codemirror_mode": {
    "name": "ipython",
    "version": 3
   },
   "file_extension": ".py",
   "mimetype": "text/x-python",
   "name": "python",
   "nbconvert_exporter": "python",
   "pygments_lexer": "ipython3",
   "version": "3.6.1"
  }
 },
 "nbformat": 4,
 "nbformat_minor": 2
}
