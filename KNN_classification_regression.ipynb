{
 "cells": [
  {
   "cell_type": "code",
   "execution_count": 155,
   "metadata": {
    "collapsed": true
   },
   "outputs": [],
   "source": [
    "import numpy as np\n",
    "import matplotlib.pyplot as plt\n",
    "import pandas as pd"
   ]
  },
  {
   "cell_type": "code",
   "execution_count": 190,
   "metadata": {
    "collapsed": true
   },
   "outputs": [],
   "source": [
    "points = 8\n",
    "nn = 3\n",
    "x = np.array(list(range(points)))\n",
    "y = np.random.randint(1,points,points)"
   ]
  },
  {
   "cell_type": "code",
   "execution_count": 191,
   "metadata": {},
   "outputs": [
    {
     "data": {
      "image/png": "[encoded data removed]",
      "text/plain": [
       "<matplotlib.figure.Figure at 0xd50b610>"
      ]
     },
     "metadata": {},
     "output_type": "display_data"
    }
   ],
   "source": [
    "centroid = np.random.choice(points,2)\n",
    "df = pd.DataFrame(list(zip(x,y)), columns= ['x','y'])\n",
    "df['euc_dist'] = ((df.x - centroid[0])**2 + (df.y - centroid[1])**2)**.5\n",
    "df=df.sort_values(by=['euc_dist']).reset_index(drop=True)\n",
    "\n",
    "u = np.repeat(1,nn)\n",
    "v = np.repeat(2, len(df)-nn)\n",
    "df['grp'] = list(u) + list(v)\n",
    "\n",
    "regr = df.loc[df.grp==1, ['x', 'y']].mean().values\n",
    "\n",
    "\n",
    "plt.scatter(df.x,df.y,c =df.grp)\n",
    "plt.scatter(centroid[0],centroid[1], s=100, c='r')\n",
    "plt.scatter(regr[0], regr[1], s=200, c='b')\n",
    "plt.show()"
   ]
  },
  {
   "cell_type": "code",
   "execution_count": 192,
   "metadata": {},
   "outputs": [],
   "source": [
    "from sklearn.neighbors import KNeighborsClassifier as knc"
   ]
  },
  {
   "cell_type": "code",
   "execution_count": 193,
   "metadata": {
    "collapsed": true
   },
   "outputs": [],
   "source": [
    "obj = knc(n_neighbors=4) "
   ]
  },
  {
   "cell_type": "code",
   "execution_count": 194,
   "metadata": {},
   "outputs": [
    {
     "data": {
      "text/plain": [
       "KNeighborsClassifier(n_neighbors=4)"
      ]
     },
     "execution_count": 194,
     "metadata": {},
     "output_type": "execute_result"
    }
   ],
   "source": [
    "obj.fit(df.x.values.reshape(-1,1), df.y)"
   ]
  },
  {
   "cell_type": "code",
   "execution_count": 195,
   "metadata": {},
   "outputs": [
    {
     "data": {
      "text/plain": [
       "{'_fit_X': array([[4],\n",
       "        [6],\n",
       "        [7],\n",
       "        [2],\n",
       "        [5],\n",
       "        [1],\n",
       "        [3],\n",
       "        [0]], dtype=int64),\n",
       " '_fit_method': 'brute',\n",
       " '_tree': None,\n",
       " '_y': array([3, 3, 3, 3, 1, 2, 0, 2]),\n",
       " 'algorithm': 'auto',\n",
       " 'classes_': array([1, 2, 3, 4], dtype=int64),\n",
       " 'effective_metric_': 'euclidean',\n",
       " 'effective_metric_params_': {},\n",
       " 'leaf_size': 30,\n",
       " 'metric': 'minkowski',\n",
       " 'metric_params': None,\n",
       " 'n_features_in_': 1,\n",
       " 'n_jobs': None,\n",
       " 'n_neighbors': 4,\n",
       " 'n_samples_fit_': 8,\n",
       " 'outputs_2d_': False,\n",
       " 'p': 2,\n",
       " 'radius': None,\n",
       " 'weights': 'uniform'}"
      ]
     },
     "execution_count": 195,
     "metadata": {},
     "output_type": "execute_result"
    }
   ],
   "source": [
    "obj.__dict__"
   ]
  },
  {
   "cell_type": "code",
   "execution_count": null,
   "metadata": {
    "collapsed": true
   },
   "outputs": [],
   "source": []
  }
 ],
 "metadata": {
  "kernelspec": {
   "display_name": "Python 3",
   "language": "python",
   "name": "python3"
  },
  "language_info": {
   "codemirror_mode": {
    "name": "ipython",
    "version": 3
   },
   "file_extension": ".py",
   "mimetype": "text/x-python",
   "name": "python",
   "nbconvert_exporter": "python",
   "pygments_lexer": "ipython3",
   "version": "3.6.1"
  }
 },
 "nbformat": 4,
 "nbformat_minor": 2
}
