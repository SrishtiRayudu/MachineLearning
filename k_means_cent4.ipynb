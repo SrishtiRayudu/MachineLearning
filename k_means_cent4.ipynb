{
 "cells": [
  {
   "cell_type": "code",
   "execution_count": 1,
   "metadata": {
    "collapsed": true
   },
   "outputs": [],
   "source": [
    "import numpy as np\n",
    "import matplotlib.pyplot as plt\n",
    "import pandas as pd"
   ]
  },
  {
   "cell_type": "code",
   "execution_count": 2,
   "metadata": {
    "collapsed": true
   },
   "outputs": [],
   "source": [
    "x = [1,1, 10, 10]\n",
    "y = [1,5, 1, 5]\n"
   ]
  },
  {
   "cell_type": "code",
   "execution_count": 3,
   "metadata": {},
   "outputs": [
    {
     "data": {
      "image/png": "[encoded data removed]",
      "text/plain": [
       "<matplotlib.figure.Figure at 0xc61bcf0>"
      ]
     },
     "metadata": {},
     "output_type": "display_data"
    }
   ],
   "source": [
    "df = pd.DataFrame(list(zip(x,y)), columns=['x', 'y'])\n",
    "plt.scatter(df.x, df.y)\n",
    "plt.show()"
   ]
  },
  {
   "cell_type": "code",
   "execution_count": 4,
   "metadata": {},
   "outputs": [
    {
     "data": {
      "image/png": "[encoded data removed]",
      "text/plain": [
       "<matplotlib.figure.Figure at 0xd712c50>"
      ]
     },
     "metadata": {},
     "output_type": "display_data"
    }
   ],
   "source": [
    "#4\n",
    "\n",
    "df = pd.DataFrame(list(zip(x,y)), columns=['x', 'y'])\n",
    "centroid = df.sample(4).reset_index(drop=True)\n",
    "centroid_hold = centroid.copy()\n",
    "plt.scatter(df.x, df.y, s=400, alpha=.5)\n",
    "plt.scatter(centroid.x, centroid.y, s=200,  c='r', marker='+')\n",
    "\n",
    "plt.show()   \n",
    "\n",
    "while True :\n",
    "    df['dist1'] = np.sqrt(np.square(centroid.loc[0].x - df.x) + np.square(centroid.loc[0].y - df.y))\n",
    "    df['dist2'] = np.sqrt(np.square(centroid.loc[1].x - df.x) + np.square(centroid.loc[1].y - df.y))\n",
    "    df['dist3'] = np.sqrt(np.square(centroid.loc[2].x - df.x) + np.square(centroid.loc[2].y - df.y))\n",
    "    df['dist4'] = np.sqrt(np.square(centroid.loc[3].x - df.x) + np.square(centroid.loc[3].y - df.y))\n",
    "    df['grp'] = df[['dist1', 'dist2', 'dist3', 'dist4']].idxmin( axis=1)\n",
    "    centroid =  df.groupby('grp')[['x', 'y']].mean().reset_index(drop=True)\n",
    "    if centroid.equals(centroid_hold) :\n",
    "        break\n",
    "    centroid_hold = centroid.copy()\n",
    "    plt.scatter(df.x, df.y, c=df.grp.str[4:].astype(int), s=400)\n",
    "    plt.scatter(centroid.x, centroid.loc[0].y, s=200,  c='r', marker='+')\n",
    "    \n",
    "    plt.show()\n",
    "\n",
    "\n",
    "\n",
    "\n",
    "\n"
   ]
  },
  {
   "cell_type": "code",
   "execution_count": 5,
   "metadata": {},
   "outputs": [
    {
     "data": {
      "text/html": [
       "<div>\n",
       "<style>\n",
       "    .dataframe thead tr:only-child th {\n",
       "        text-align: right;\n",
       "    }\n",
       "\n",
       "    .dataframe thead th {\n",
       "        text-align: left;\n",
       "    }\n",
       "\n",
       "    .dataframe tbody tr th {\n",
       "        vertical-align: top;\n",
       "    }\n",
       "</style>\n",
       "<table border=\"1\" class=\"dataframe\">\n",
       "  <thead>\n",
       "    <tr style=\"text-align: right;\">\n",
       "      <th></th>\n",
       "      <th>x</th>\n",
       "      <th>y</th>\n",
       "      <th>dist1</th>\n",
       "      <th>dist2</th>\n",
       "      <th>dist3</th>\n",
       "      <th>dist4</th>\n",
       "      <th>grp</th>\n",
       "    </tr>\n",
       "  </thead>\n",
       "  <tbody>\n",
       "    <tr>\n",
       "      <th>0</th>\n",
       "      <td>1</td>\n",
       "      <td>1</td>\n",
       "      <td>0.000000</td>\n",
       "      <td>9.000000</td>\n",
       "      <td>4.000000</td>\n",
       "      <td>9.848858</td>\n",
       "      <td>dist1</td>\n",
       "    </tr>\n",
       "    <tr>\n",
       "      <th>1</th>\n",
       "      <td>1</td>\n",
       "      <td>5</td>\n",
       "      <td>4.000000</td>\n",
       "      <td>9.848858</td>\n",
       "      <td>0.000000</td>\n",
       "      <td>9.000000</td>\n",
       "      <td>dist3</td>\n",
       "    </tr>\n",
       "    <tr>\n",
       "      <th>2</th>\n",
       "      <td>10</td>\n",
       "      <td>1</td>\n",
       "      <td>9.000000</td>\n",
       "      <td>0.000000</td>\n",
       "      <td>9.848858</td>\n",
       "      <td>4.000000</td>\n",
       "      <td>dist2</td>\n",
       "    </tr>\n",
       "    <tr>\n",
       "      <th>3</th>\n",
       "      <td>10</td>\n",
       "      <td>5</td>\n",
       "      <td>9.848858</td>\n",
       "      <td>4.000000</td>\n",
       "      <td>9.000000</td>\n",
       "      <td>0.000000</td>\n",
       "      <td>dist4</td>\n",
       "    </tr>\n",
       "  </tbody>\n",
       "</table>\n",
       "</div>"
      ],
      "text/plain": [
       "    x  y     dist1     dist2     dist3     dist4    grp\n",
       "0   1  1  0.000000  9.000000  4.000000  9.848858  dist1\n",
       "1   1  5  4.000000  9.848858  0.000000  9.000000  dist3\n",
       "2  10  1  9.000000  0.000000  9.848858  4.000000  dist2\n",
       "3  10  5  9.848858  4.000000  9.000000  0.000000  dist4"
      ]
     },
     "execution_count": 5,
     "metadata": {},
     "output_type": "execute_result"
    }
   ],
   "source": [
    "df"
   ]
  },
  {
   "cell_type": "code",
   "execution_count": null,
   "metadata": {
    "collapsed": true
   },
   "outputs": [],
   "source": []
  }
 ],
 "metadata": {
  "kernelspec": {
   "display_name": "Python 3",
   "language": "python",
   "name": "python3"
  },
  "language_info": {
   "codemirror_mode": {
    "name": "ipython",
    "version": 3
   },
   "file_extension": ".py",
   "mimetype": "text/x-python",
   "name": "python",
   "nbconvert_exporter": "python",
   "pygments_lexer": "ipython3",
   "version": "3.6.1"
  }
 },
 "nbformat": 4,
 "nbformat_minor": 2
}
